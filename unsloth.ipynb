{
 "cells": [
  {
   "cell_type": "code",
   "execution_count": 1,
   "metadata": {},
   "outputs": [
    {
     "name": "stdout",
     "output_type": "stream",
     "text": [
      "                                                text  \\\n",
      "0                                           Em Lajes   \n",
      "1  Corte e remoção de gradeamento existente, em c...   \n",
      "2                                Linteis de Fundação   \n",
      "3  Betão C25/30 em Lajes de Transição, incluindo ...   \n",
      "4  Fornecimento e aplicação de sistema de imperme...   \n",
      "\n",
      "                                              labels  \n",
      "0  (['ESTRUTURA BETÃO ARMADO'], ['7.8 Lajes'], ['...  \n",
      "1  (['DEMOLIÇÕES E CONTENÇÃO DE FACHADA'], ['2.3 ...  \n",
      "2  (['FUNDAÇÕES'], ['5.1 Betão de Limpeza'], ['Th...  \n",
      "3  (['ESTRUTURA BETÃO ARMADO'], ['7.8 Lajes'], ['...  \n",
      "4  (['DIVERSOS'], ['Impermeabilização - Telas Ben...  \n"
     ]
    }
   ],
   "source": [
    "# Import necessary libraries\n",
    "import pandas as pd\n",
    "import requests\n",
    "\n",
    "# Load the validation-formatted Excel file\n",
    "excel_path = r'val_formated.xlsx'  # Change this if your file is elsewhere\n",
    "df_val_formated = pd.read_excel(excel_path)\n",
    "\n",
    "# Display the first few rows to verify\n",
    "print(df_val_formated.head())"
   ]
  },
  {
   "cell_type": "code",
   "execution_count": 2,
   "metadata": {},
   "outputs": [],
   "source": [
    "# Define the static instruction and context\n",
    "instruction = (\n",
    "    \"Segue-se uma instrução que descreve uma tarefa, emparelhada com uma entrada que fornece mais contexto. \"\n",
    "    \"Escreva uma resposta que complete adequadamente o pedido\\n\\n\"\n",
    "    \"### Instruction:\\n\"\n",
    "    \"Classifica o input do user em Capítulo, Subcapítulo e Item.\\n\\n\"\n",
    "    \"### Input:\\n\"\n",
    ")\n",
    "\n",
    "# Create the formatted prompt\n",
    "df_val_formated['prompt'] = (\n",
    "    instruction +\n",
    "    df_val_formated['text'].astype(str) +  # Changed from 'input' to 'text'\n",
    "    \"\\n\\n### Response:\\n\" +\n",
    "    df_val_formated['labels'].astype(str)   # Changed from 'response' to 'labels'\n",
    ")"
   ]
  },
  {
   "cell_type": "code",
   "execution_count": 3,
   "metadata": {},
   "outputs": [
    {
     "name": "stdout",
     "output_type": "stream",
     "text": [
      "                                                text  \\\n",
      "0                                           Em Lajes   \n",
      "1  Corte e remoção de gradeamento existente, em c...   \n",
      "2                                Linteis de Fundação   \n",
      "3  Betão C25/30 em Lajes de Transição, incluindo ...   \n",
      "4  Fornecimento e aplicação de sistema de imperme...   \n",
      "\n",
      "                                              labels  \\\n",
      "0  (['ESTRUTURA BETÃO ARMADO'], ['7.8 Lajes'], ['...   \n",
      "1  (['DEMOLIÇÕES E CONTENÇÃO DE FACHADA'], ['2.3 ...   \n",
      "2  (['FUNDAÇÕES'], ['5.1 Betão de Limpeza'], ['Th...   \n",
      "3  (['ESTRUTURA BETÃO ARMADO'], ['7.8 Lajes'], ['...   \n",
      "4  (['DIVERSOS'], ['Impermeabilização - Telas Ben...   \n",
      "\n",
      "                                              prompt  \n",
      "0  Segue-se uma instrução que descreve uma tarefa...  \n",
      "1  Segue-se uma instrução que descreve uma tarefa...  \n",
      "2  Segue-se uma instrução que descreve uma tarefa...  \n",
      "3  Segue-se uma instrução que descreve uma tarefa...  \n",
      "4  Segue-se uma instrução que descreve uma tarefa...  \n"
     ]
    }
   ],
   "source": [
    "print(df_val_formated.head())"
   ]
  },
  {
   "cell_type": "code",
   "execution_count": 4,
   "metadata": {},
   "outputs": [],
   "source": [
    "import requests\n",
    "import pandas as pd\n",
    "\n",
    "# Load your dataset\n",
    "df = pd.read_excel('val_formated.xlsx')\n",
    "\n",
    "# Define the API endpoint\n",
    "API_URL = \"http://127.0.0.1:1234/v1/chat/completions\"\n",
    "\n",
    "# Function to get predictions\n",
    "def get_prediction(text):\n",
    "    headers = {\n",
    "        \"Content-Type\": \"application/json\"\n",
    "    }\n",
    "    \n",
    "    payload = {\n",
    "        \"model\": \"unsloth\",\n",
    "        \"messages\": [\n",
    "            {\n",
    "                \"role\": \"system\",\n",
    "                \"content\": \"Classifica o input do user em Capítulo, Subcapítulo e Item.\"\n",
    "            },\n",
    "            {\n",
    "                \"role\": \"user\",\n",
    "                \"content\": f\"### Input:\\n{text}\\n\\n### Response:\"\n",
    "            }\n",
    "        ],\n",
    "        \"temperature\": 0.01,\n",
    "        \"max_tokens\": 100,\n",
    "        \"top_p\": 0.95\n",
    "    }\n",
    "    \n",
    "    try:\n",
    "        response = requests.post(API_URL, headers=headers, json=payload)\n",
    "        response.raise_for_status()\n",
    "        return response.json()['choices'][0]['message']['content']\n",
    "    except Exception as e:\n",
    "        print(f\"Error: {str(e)}\")\n",
    "        return None\n"
   ]
  },
  {
   "cell_type": "code",
   "execution_count": 5,
   "metadata": {},
   "outputs": [
    {
     "name": "stdout",
     "output_type": "stream",
     "text": [
      "Original Text and Predictions:\n",
      "                                                   text  \\\n",
      "0                                              Em Lajes   \n",
      "1     Corte e remoção de gradeamento existente, em c...   \n",
      "2                                   Linteis de Fundação   \n",
      "3     Betão C25/30 em Lajes de Transição, incluindo ...   \n",
      "4     Fornecimento e aplicação de sistema de imperme...   \n",
      "...                                                 ...   \n",
      "1794                                     Trelica Tipo 2   \n",
      "1795                       Betão C25/30 - XC1(P) 22 S3    \n",
      "1796  Remoção de materiais inertes  existente na zon...   \n",
      "1797  Em perfis tubulares para contraventamento do a...   \n",
      "1798  Laje térrea em betão armado, para bancada do a...   \n",
      "\n",
      "                                             prediction  \n",
      "0     Chapter: ESTRUTURA BETÃO ARMADO | Subchapter: ...  \n",
      "1     Chapter: DEMOLIÇÕES E CONTENÇÃO DE FACHADA | S...  \n",
      "2     Chapter: FUNDAÇÕES | Subchapter: 5.2 Fundações...  \n",
      "3     Chapter: ESTRUTURA BETÃO ARMADO | Subchapter: ...  \n",
      "4     Chapter: DIVERSOS | Subchapter: Impermeabiliza...  \n",
      "...                                                 ...  \n",
      "1794  Chapter: ESTRUTURA METÁLICA | Subchapter: 8.1 ...  \n",
      "1795  Chapter: FUNDAÇÕES | Subchapter: 5.2 Fundações...  \n",
      "1796  Chapter: MOVIMENTO DE TERRAS | Subchapter: 3.1...  \n",
      "1797  Chapter: ESTRUTURA METÁLICA | Subchapter: 8.3 ...  \n",
      "1798  Chapter: PAVIMENTO TERREO | Subchapter: 6.2 La...  \n",
      "\n",
      "[1799 rows x 2 columns]\n"
     ]
    }
   ],
   "source": [
    "# Test on first 5 data points\n",
    "test_df = df_val_formated\n",
    "test_df['prediction'] = test_df['text'].apply(get_prediction)\n",
    "\n",
    "# Display results\n",
    "print(\"Original Text and Predictions:\")\n",
    "print(test_df[['text', 'prediction']])"
   ]
  },
  {
   "cell_type": "code",
   "execution_count": 11,
   "metadata": {},
   "outputs": [
    {
     "name": "stdout",
     "output_type": "stream",
     "text": [
      "Index(['text', 'labels', 'prompt', 'prediction'], dtype='object')\n"
     ]
    }
   ],
   "source": [
    "print(test_df.columns)"
   ]
  },
  {
   "cell_type": "code",
   "execution_count": 15,
   "metadata": {},
   "outputs": [
    {
     "name": "stdout",
     "output_type": "stream",
     "text": [
      "                                                                                                                                                                                                                                                                                                                                          text  \\\n",
      "0                                                                                                                                                                                                                                                                                                                                     Em Lajes   \n",
      "1                                                                                                                                                                        Corte e remoção de gradeamento existente, em cantoneira de ferro metalizado, com o acondicionamento em local a designar pela Fiscalização para posterior recolocação.   \n",
      "2                                                                                                                                                                                                                                                                                                                          Linteis de Fundação   \n",
      "3                                                                                                                                                                                                                                                              Betão C25/30 em Lajes de Transição, incluindo armadura e poliestireno expandido   \n",
      "4  Fornecimento e aplicação de sistema de impermeabilização à base de silanos e siloxanos tipo SecilTEK 40 AD ou equivalente,  a aplicar nas superfícies exteriores de betão à vista, sem brilho e que não provoque alateração da textura, cor, nem das características do betão aparente incluindo todos os materias e trabalhos necessários.   \n",
      "\n",
      "                                                                                                                                                                            labels  \\\n",
      "0                          (['ESTRUTURA BETÃO ARMADO'], ['7.8 Lajes'], ['Laje maciças', 'Laje fungiformes Maciças', 'Laje fungiformes Aligeiradas', 'Lajes com módulos embebido'])   \n",
      "1  (['DEMOLIÇÕES E CONTENÇÃO DE FACHADA'], ['2.3 Demolição do Edifício existente incluindo acumulação e transporte dos produtos para vazadouro autorizado'], ['Throwaway - Item'])   \n",
      "2                                                                                                                  (['FUNDAÇÕES'], ['5.1 Betão de Limpeza'], ['Throwaway - Item'])   \n",
      "3                                                                                      (['ESTRUTURA BETÃO ARMADO'], ['7.8 Lajes'], ['Laje maciças', 'Lajes com módulos embebido'])   \n",
      "4                                                                                          (['DIVERSOS'], ['Impermeabilização - Telas Bentoníticas Voltex'], ['Throwaway - Item'])   \n",
      "\n",
      "                                                                                                                                                                                                                                                                                                                                                                                                                                                                                                                                                                                                                                                                                                                  prompt  \\\n",
      "0                                                                                                                                                                                                                                                                     Segue-se uma instrução que descreve uma tarefa, emparelhada com uma entrada que fornece mais contexto. Escreva uma resposta que complete adequadamente o pedido\\n\\n### Instruction:\\nClassifica o input do user em Capítulo, Subcapítulo e Item.\\n\\n### Input:\\nEm Lajes\\n\\n### Response:\\n(['ESTRUTURA BETÃO ARMADO'], ['7.8 Lajes'], ['Laje maciças', 'Laje fungiformes Maciças', 'Laje fungiformes Aligeiradas', 'Lajes com módulos embebido'])   \n",
      "1                                                                                Segue-se uma instrução que descreve uma tarefa, emparelhada com uma entrada que fornece mais contexto. Escreva uma resposta que complete adequadamente o pedido\\n\\n### Instruction:\\nClassifica o input do user em Capítulo, Subcapítulo e Item.\\n\\n### Input:\\nCorte e remoção de gradeamento existente, em cantoneira de ferro metalizado, com o acondicionamento em local a designar pela Fiscalização para posterior recolocação.\\n\\n### Response:\\n(['DEMOLIÇÕES E CONTENÇÃO DE FACHADA'], ['2.3 Demolição do Edifício existente incluindo acumulação e transporte dos produtos para vazadouro autorizado'], ['Throwaway - Item'])   \n",
      "2                                                                                                                                                                                                                                                                                                                                                  Segue-se uma instrução que descreve uma tarefa, emparelhada com uma entrada que fornece mais contexto. Escreva uma resposta que complete adequadamente o pedido\\n\\n### Instruction:\\nClassifica o input do user em Capítulo, Subcapítulo e Item.\\n\\n### Input:\\nLinteis de Fundação\\n\\n### Response:\\n(['FUNDAÇÕES'], ['5.1 Betão de Limpeza'], ['Throwaway - Item'])   \n",
      "3                                                                                                                                                                                                                                                          Segue-se uma instrução que descreve uma tarefa, emparelhada com uma entrada que fornece mais contexto. Escreva uma resposta que complete adequadamente o pedido\\n\\n### Instruction:\\nClassifica o input do user em Capítulo, Subcapítulo e Item.\\n\\n### Input:\\nBetão C25/30 em Lajes de Transição, incluindo armadura e poliestireno expandido\\n\\n### Response:\\n(['ESTRUTURA BETÃO ARMADO'], ['7.8 Lajes'], ['Laje maciças', 'Lajes com módulos embebido'])   \n",
      "4  Segue-se uma instrução que descreve uma tarefa, emparelhada com uma entrada que fornece mais contexto. Escreva uma resposta que complete adequadamente o pedido\\n\\n### Instruction:\\nClassifica o input do user em Capítulo, Subcapítulo e Item.\\n\\n### Input:\\nFornecimento e aplicação de sistema de impermeabilização à base de silanos e siloxanos tipo SecilTEK 40 AD ou equivalente,  a aplicar nas superfícies exteriores de betão à vista, sem brilho e que não provoque alateração da textura, cor, nem das características do betão aparente incluindo todos os materias e trabalhos necessários.\\n\\n### Response:\\n(['DIVERSOS'], ['Impermeabilização - Telas Bentoníticas Voltex'], ['Throwaway - Item'])   \n",
      "\n",
      "                                                                                                                             prediction  \\\n",
      "0  Chapter: ESTRUTURA BETÃO ARMADO | Subchapter: 7.8 Lajes | Item: Laje maciças, Laje fungiformes Maciças, Laje fungiformes Aligeiradas   \n",
      "1                     Chapter: DEMOLIÇÕES E CONTENÇÃO DE FACHADA | Subchapter: 2.4 Demolições de Elementos | Item: Caixilharia Exterior   \n",
      "2                                                      Chapter: FUNDAÇÕES | Subchapter: 5.2 Fundações Diretas | Item: Vigas de Fundação   \n",
      "3                                                          Chapter: ESTRUTURA BETÃO ARMADO | Subchapter: 7.8 Lajes | Item: Laje maciças   \n",
      "4                                             Chapter: DIVERSOS | Subchapter: Impermeabilização - Telas em PVC | Item: Throwaway - Item   \n",
      "\n",
      "  true_chapter true_subchapter true_item                         pred_chapter  \\\n",
      "0            (               [         '             [ESTRUTURA BETÃO ARMADO]   \n",
      "1            (               [         '  [DEMOLIÇÕES E CONTENÇÃO DE FACHADA]   \n",
      "2            (               [         '                          [FUNDAÇÕES]   \n",
      "3            (               [         '             [ESTRUTURA BETÃO ARMADO]   \n",
      "4            (               [         '                           [DIVERSOS]   \n",
      "\n",
      "                      pred_subchapter  \\\n",
      "0                         [7.8 Lajes]   \n",
      "1       [2.4 Demolições de Elementos]   \n",
      "2             [5.2 Fundações Diretas]   \n",
      "3                         [7.8 Lajes]   \n",
      "4  [Impermeabilização - Telas em PVC]   \n",
      "\n",
      "                                                                pred_item  \n",
      "0  [Laje maciças, Laje fungiformes Maciças, Laje fungiformes Aligeiradas]  \n",
      "1                                                  [Caixilharia Exterior]  \n",
      "2                                                     [Vigas de Fundação]  \n",
      "3                                                          [Laje maciças]  \n",
      "4                                                      [Throwaway - Item]  \n"
     ]
    }
   ],
   "source": [
    "print(test_df.head())"
   ]
  },
  {
   "cell_type": "code",
   "execution_count": 16,
   "metadata": {},
   "outputs": [],
   "source": [
    "import pandas as pd\n",
    "from sklearn.preprocessing import MultiLabelBinarizer\n",
    "from sklearn.metrics import precision_score, recall_score, f1_score, hamming_loss\n",
    "import ast\n",
    "\n",
    "# Already parsed `labels` into tuples of lists: (chapter, subchapter, item)\n",
    "test_df['labels'] = test_df['labels'].apply(ast.literal_eval)\n",
    "\n",
    "# Extract all levels as full lists\n",
    "test_df['true_chapter'] = test_df['labels'].apply(lambda x: x[0])\n",
    "test_df['true_subchapter'] = test_df['labels'].apply(lambda x: x[1])\n",
    "test_df['true_item'] = test_df['labels'].apply(lambda x: x[2])\n",
    "\n",
    "# Parse prediction string into lists (wrap single values into lists for consistency)\n",
    "def parse_prediction(pred):\n",
    "    try:\n",
    "        parts = pred.split(\" | \")\n",
    "        chapter = [parts[0].replace(\"Chapter:\", \"\").strip()]\n",
    "        subchapter = [parts[1].replace(\"Subchapter:\", \"\").strip()]\n",
    "        item = [i.strip() for i in parts[2].replace(\"Item:\", \"\").split(',')]\n",
    "        return chapter, subchapter, item\n",
    "    except:\n",
    "        return [], [], []\n",
    "\n",
    "# Extract predicted levels\n",
    "test_df[['pred_chapter', 'pred_subchapter', 'pred_item']] = test_df['prediction'].apply(\n",
    "    lambda x: pd.Series(parse_prediction(x))\n",
    ")\n"
   ]
  },
  {
   "cell_type": "code",
   "execution_count": 17,
   "metadata": {},
   "outputs": [
    {
     "name": "stdout",
     "output_type": "stream",
     "text": [
      "                          true_chapter  \\\n",
      "0             [ESTRUTURA BETÃO ARMADO]   \n",
      "1  [DEMOLIÇÕES E CONTENÇÃO DE FACHADA]   \n",
      "2                          [FUNDAÇÕES]   \n",
      "3             [ESTRUTURA BETÃO ARMADO]   \n",
      "4                           [DIVERSOS]   \n",
      "\n",
      "                                                                                                  true_subchapter  \\\n",
      "0                                                                                                     [7.8 Lajes]   \n",
      "1  [2.3 Demolição do Edifício existente incluindo acumulação e transporte dos produtos para vazadouro autorizado]   \n",
      "2                                                                                          [5.1 Betão de Limpeza]   \n",
      "3                                                                                                     [7.8 Lajes]   \n",
      "4                                                                 [Impermeabilização - Telas Bentoníticas Voltex]   \n",
      "\n",
      "                                                                                            true_item  \n",
      "0  [Laje maciças, Laje fungiformes Maciças, Laje fungiformes Aligeiradas, Lajes com módulos embebido]  \n",
      "1                                                                                  [Throwaway - Item]  \n",
      "2                                                                                  [Throwaway - Item]  \n",
      "3                                                          [Laje maciças, Lajes com módulos embebido]  \n",
      "4                                                                                  [Throwaway - Item]  \n"
     ]
    }
   ],
   "source": [
    "pd.set_option('display.max_colwidth', None)  # Show full column width\n",
    "print(test_df[['true_chapter', 'true_subchapter', 'true_item']].head())\n"
   ]
  },
  {
   "cell_type": "code",
   "execution_count": 14,
   "metadata": {},
   "outputs": [
    {
     "name": "stdout",
     "output_type": "stream",
     "text": [
      "                          pred_chapter                     pred_subchapter  \\\n",
      "0             [ESTRUTURA BETÃO ARMADO]                         [7.8 Lajes]   \n",
      "1  [DEMOLIÇÕES E CONTENÇÃO DE FACHADA]       [2.4 Demolições de Elementos]   \n",
      "2                          [FUNDAÇÕES]             [5.2 Fundações Diretas]   \n",
      "3             [ESTRUTURA BETÃO ARMADO]                         [7.8 Lajes]   \n",
      "4                           [DIVERSOS]  [Impermeabilização - Telas em PVC]   \n",
      "\n",
      "                                                                pred_item  \n",
      "0  [Laje maciças, Laje fungiformes Maciças, Laje fungiformes Aligeiradas]  \n",
      "1                                                  [Caixilharia Exterior]  \n",
      "2                                                     [Vigas de Fundação]  \n",
      "3                                                          [Laje maciças]  \n",
      "4                                                      [Throwaway - Item]  \n"
     ]
    }
   ],
   "source": [
    "print(test_df[['pred_chapter', 'pred_subchapter', 'pred_item']].head())\n"
   ]
  },
  {
   "cell_type": "code",
   "execution_count": 18,
   "metadata": {},
   "outputs": [
    {
     "name": "stdout",
     "output_type": "stream",
     "text": [
      "{'chapter_f1_weighted': 0.8857390323837246,\n",
      " 'chapter_hamming_loss': 0.018945710579951824,\n",
      " 'chapter_precision_micro': 0.9314447592067989,\n",
      " 'chapter_recall_micro': 0.8509316770186336,\n",
      " 'item_f1_weighted': 0.644881707094862,\n",
      " 'item_hamming_loss': 0.011774929734046301,\n",
      " 'item_precision_micro': 0.8223620522749274,\n",
      " 'item_recall_micro': 0.599083215796897,\n",
      " 'overall_f1_weighted': 0.6730738640011897,\n",
      " 'overall_hamming_loss': 0.014420481402537782,\n",
      " 'overall_precision_micro': 0.8665527714502658,\n",
      " 'overall_recall_micro': 0.6112747723620782,\n",
      " 'subchapter_f1_weighted': 0.5508398736539646,\n",
      " 'subchapter_hamming_loss': 0.0167851187167474,\n",
      " 'subchapter_precision_micro': 0.8515679442508711,\n",
      " 'subchapter_recall_micro': 0.4525925925925926}\n"
     ]
    },
    {
     "name": "stderr",
     "output_type": "stream",
     "text": [
      "c:\\ProgramData\\Anaconda3\\lib\\site-packages\\sklearn\\preprocessing\\_label.py:875: UserWarning: unknown class(es) ['###  TRABALHOS PREPARATÓRIOS E MONTAGEM DE ESTALEIRO', '- Fornecimento e montagem de cofragens metálicas para execução de núcleos de betão armado, incluindo escoramentos, descofragens e limpeza dos elementos, conforme especificações técnicas do projeto.\\n\\n###  ESTRUTURA BETÃO ARMADO', 'CONTENÇÃO DE FACHADA', 'CONTENÇÕES, FUNDAÇÕES', 'Elemento de fundação horizontal (laje de fundação) para implantação da estrutura do edifício, incluindo todos os trabalhos necessários à sua boa execução.\\n\\n###  FUNDAÇÕES', 'None', 'TRABALHOS PREPARATÓRIOS E COMPLEMENTARES'] will be ignored\n",
      "  warnings.warn(\n",
      "c:\\ProgramData\\Anaconda3\\lib\\site-packages\\sklearn\\preprocessing\\_label.py:875: UserWarning: unknown class(es) ['1.1 Estaleiro, 1.2 Equipamento Básico da Empreitada', '1.1 Estaleiro, 1.2 Equipamentos, 1.3 Serviços', '1.1 Estaleiro, 1.2 Plano de Segurança e Saúde', '1.1 Estaleiro, 1.2 Planos de Higiene e Segurança', '1.2 Tapume e Pala de Proteção, 1.3 Trabalhos Preparatórios e Montagem de Estaleiro', '1.3 Segurança Permanente em Obra, 1.4 Telas', '2.1 Contenção Periférica', '2.1 Demolições de Revestimentos, 2.3 Demolição do Edifício existente incluindo acumulação e transporte dos produtos para vazadouro autorizado', '2.1 Demolições de Revestimentos, 2.3 Demolição do Edifício existente incluindo remoção do pavimento', '2.1 Demolições de Revestimentos, 2.3 Demolição do Edifício existente incluindo remoção e transporte dos produtos para vazadouro autorizado', '2.2 Demolições de Elementos Estruturais, 2.3 Demolição do Edifício existente incluindo acumulação e transporte dos produtos para vazadouro autorizado', '2.3 Demolição do Edifício existente incluindo acumulação e transporte dos produtos para vazadouro autorizado, 2.1 Demolições de Elementos Estruturais', '2.3 Demolição do Edifício existente incluindo acumulação e transporte dos produtos para vazadouro autorizado, 2.1 Demolições de Revestimentos', '2.3 Demolição do Edifício existente incluindo acumulação e transporte dos produtos para vazadouro autorizado, 2.4 Demolições de Elementos', '2.3 Demolição do Edifício existente incluindo acumulação e transporte dos produtos para vazadouro autorizado, 2.4 Demolições de Elementos Aeronáuticos', '2.3 Demolição do Edifício existente incluindo acumulação e transporte dos produtos para vazadouro autorizado, 2.4 Demolições de Elementos Afectados', '2.3 Demolição do Edifício existente incluindo acumulação e transporte dos produtos para vazadouro autorizado, 2.4 Demolições de Elementos Affectados pelo projeto', '2.3 Demolição do Edifício existente incluindo acumulação e transporte dos produtos para vazadouro autorizado, 2.4 Demolições de Elementos Afixos', '2.3 Demolição do Edifício existente incluindo acumulação e transporte dos produtos para vazadouro autorizado, 2.4 Escavação de terras', '2.3 Demolição do Edifício existente incluindo acumulação e transporte dos produtos para vazadouro autorizado, 2.5 Remoção de equipamentos eléctricos', '2.3 Demolição do Edifício existente incluindo acumulação e transporte dos produtos para vazadouro autorizado, 2.8 Gestao de Resíduos', '2.3 Demolição do Edifício existente incluindo acumulação e transporte dos produtos para vazadouro autorizado, 2.8 Plano Gestao de Resíduos', '2.3 Demolição do Edifício existente incluindo acumulação e transporte dos produtos para vazadouro autorizado, 2.8 Telas', '2.4 Demolições de Elementos Acessórios', '2.4 Demolições de Elementos Afectados pelo Fogo', '2.4 Demolições de Elementos Através do Teto', '2.4 Demolições de Elementos Aéreos', '3.1 Escavação Geral, 3.2 Escavação de Caboucos', '3.1 Escavação Geral, 3.2 Remoção de solos, 3.3 Aterro', '3.1 Limpeza, Desmatação e Decapagem do terreno, 3.2 Remoção de árvores e arbustos', '3.3 Escavação Geral, 3.4 Escavação de Caboucos', '4.1 Contenção Periférica, 5.3 Fundações Indirectas', '4.1 Paredes de Terras', '5.2 Fundações Diretas, 5.3 Fundações Indirectas', '6.1 Pavimento Térreo com fibras, 6.2 Laje de Pavimento Térreo Armado', '7.1 Muros de Suporte, 7.2 Pilares, 7.3 Vigas, 7.4 Paredes, 7.5 Núcleos, 7.6 Escadas, 7.7 Platibandas, 7.8 Lajes', '7.1 Muros de Suporte, 7.2 Pilares, 7.3 Vigas, 7.4 Paredes, 7.6 Escadas, 7.8 Lajes', '7.1 Muros de Suporte, 7.3 Vigas, 7.4 Paredes, 7.6 Escadas, 7.8 Lajes', '7.1 Muros de Suporte, 7.3 Vigas, 7.4 Paredes, 7.8 Lajes', '7.1 Muros de Suporte, 7.3 Vigas, 7.8 Lajes', '7.1 Muros de Suporte, 7.4 Paredes', '7.2 Pilares, 7.3 Vigas', '7.2 Pilares, 7.3 Vigas, 7.4 Paredes', '7.2 Pilares, 7.3 Vigas, 7.4 Paredes, 7.6 Escadas, 7.8 Lajes', '7.2 Pilares, 7.3 Vigas, 7.8 Lajes', '7.2 Pilares, 7.4 Paredes', '7.2 Pilares, 7.6 Escadas, 7.8 Lajes', '7.2 Pilares, 7.8 Lajes', '7.3 Vigas, 7.4 Paredes', '7.3 Vigas, 7.4 Paredes, 7.8 Lajes', '7.3 Vigas, 7.7 Platibandas', '7.3 Vigas, 7.8 Lajes', '7.6 Escadas, 7.8 Lajes', '7.8 Lajes, 7.9 Pré-Esforço', '8.1 Enformados a Frio, 8.2 Laminados', '8.1 Enformados a Frio, 8.2 Laminados, 8.3 Tubulares en Colocación, 8.4 Tubulares en Profile, 8.5 Chumbadouros, 8.6 Lajes Colaborantes, 8.7 Gradil Metálico', '8.1 Enformados a Frio, 8.2 Laminados, 8.3 Tubulares en Colocación, 8.4 Tubulares en Profile, 8.5 Chumbadouros, 8.7 Gradil Metálico', '8.1 Enformados a Frio, 8.2 Laminados, 8.3 Tubulares en Colunas de Flame Retardance, 8.4 Tubulares en Colunas, 8.5 Chumbadouros, 8.6 Lajes Colaborantes, 8.7 Gradil Metálico', '8.1 Enformados a Frio, 8.2 Laminados, 8.3 Tubulares en Colunas, 8.4 Tubulares en Pavimentos, 8.5 Chumbadouros, 8.6 Lajes Colaborantes, 8.7 Gradil Metálico', '8.1 Enformados a Frio, 8.2 Laminados, 8.3 Tubulares en Colunas, 8.4 Tubulares en Pilar, 8.5 Chumbadouros, 8.6 Lajes Colaborantes, 8.7 Gradil Metálico', '8.1 Enformados a Frio, 8.2 Laminados, 8.3 Tubulares en Colunas, 8.4 Tubulares en Pilastras, 8.5 Chumbadouros, 8.6 Lajes Colaborantes, 8.7 Gradil Metálico', '8.1 Enformados a Frio, 8.2 Laminados, 8.3 Tubulares en Colunas, 8.4 Tubulares en Profile, 8.5 Chumbadouros, 8.6 Lajes Colaborantes, 8.7 Gradil Metálico', '8.1 Enformados a Frio, 8.2 Laminados, 8.3 Tubulares en Forma Circular, 8.4 Tubulares en Forma Retangular/Square, 8.5 Chumbadouros, 8.6 Lajes Colaborantes, 8.7 Gradil Metálico', '8.1 Enformados a Frio, 8.2 Laminados, 8.3 Tubulares en Forma Fechada, 8.4 Tubulares abertos, 8.5 Chumbadouros, 8.7 Gradil Metálico', '8.1 Enformados a Frio, 8.2 Laminados, 8.3 Tubulares en Forma Fechada, 8.4 Tubulares em Ponto Fixo, 8.5 Chumbadouros, 8.6 Lajes Colaborantes, 8.7 Gradil Metálico', '8.1 Enformados a Frio, 8.2 Laminados, 8.3 Tubulares en Forma Feita, 8.4 Tubulares de Perfis en Forma Feita, 8.5 Chumbadouros, 8.6 Lajes Colaborantes, 8.7 Gradil Metálico', '8.1 Enformados a Frio, 8.2 Laminados, 8.3 Tubulares en Forma Feita, 8.4 Tubulares de Perfis, 8.5 Chumbadouros, 8.6 Lajes Colaborantes, 8.7 Gradil Metálico', '8.1 Enformados a Frio, 8.2 Laminados, 8.3 Tubulares en Forma Feita, 8.4 Tubulares de Secção Circular, 8.5 Tubulares de Secção Retangular, 8.6 Lajes Colaborantes, 8.7 Gradil Metálico', '8.1 Enformados a Frio, 8.2 Laminados, 8.3 Tubulares en Forma Feita, 8.4 Tubulares en Ponto Fixo, 8.5 Chumbadouros, 8.6 Lajes Colaborantes, 8.7 Gradil Metálico', '8.1 Enformados a Frio, 8.2 Laminados, 8.3 Tubulares en Forma Feita, 8.4 Tubulares en Prolongamento de muro de elevador, 8.5 Chumbadouros, 8.6 Lajes Colaborantes, 8.7 Gradil Metálico', '8.1 Enformados a Frio, 8.2 Laminados, 8.3 Tubulares en Forma Feita, 8.4 Tubulares en Prolongamento, 8.5 Chumbadouros, 8.6 Lajes Colaborantes, 8.7 Gradil Metálico', '8.1 Enformados a Frio, 8.2 Laminados, 8.3 Tubulares en Forma Feita, 8.4 Tubulares en Pó, 8.5 Chumbadouros, 8.6 Lajes Colaborantes, 8.7 Gradil Metálico', '8.1 Enformados a Frio, 8.2 Laminados, 8.3 Tubulares en Forma Feita, 8.4 Tubulares en Pólo, 8.5 Chumbadouros, 8.6 Lajes Colaborantes, 8.7 Gradil Metálico', '8.1 Enformados a Frio, 8.2 Laminados, 8.3 Tubulares en Profilado, 8.4 Tubulares en Colono, 8.5 Chumbadouros, 8.6 Lajes Colaborantes, 8.7 Gradil Metálico', '8.1 Enformados a Frio, 8.2 Laminados, 8.3 Tubulares en Profilado, 8.4 Tubulares en Compósito', '8.1 Enformados a Frio, 8.2 Laminados, 8.3 Tubulares enformados a frio, 8.4 Tubulares enformados a quente', '8.1 Enformados a Frio, 8.2 Laminados, 8.3 Tubulares enformados a frio, 8.4 Tubulares enformados a quente, 8.5 Chumbadouros, 8.6 Lajes Colaborantes, 8.7 Gradil Metálico', '8.1 Enformados a Frio, 8.3 Tubulares en Forma Circular, 8.4 Tubulares en Forma Retangular', '8.1 Enformados a Frio, 8.3 Tubulares en Madeira', '8.1 Enformados a Frio, 8.3 Tubulares enformados a frio', '8.2 Laminados a quente, 8.3 Tubulares enformados a frio, 8.4 Tubulares enformados a quente', '8.2 Laminados, 8.3 Tubulares en aço S275JR, 8.4 Tubulares en aço S355J2H', '8.2 Laminados, 8.3 Tubulares en madeira, 8.4 Tubulares en aço, 8.5 Chumbadouros, 8.7 Gradil Metálico', '8.2 Laminados, 8.3 Tubulares enformados a frio, 8.4 Tubulares enformados a quente', '8.2 Laminados, 8.3 Tubulares enformados a frio, 8.4 Tubulares enformados a quente, 8.5 Chumbadouros, 8.7 Gradil Metálico', '8.2 Laminados, 8.3 Tubulares enformados a frio, 8.4 Tubulares enformados a quente, 8.7 Gradil Metálico', '8.2 Laminados, 8.4 Tubulares enformados a quente', '8.2 Laminados, 8.5 Chumbadouros, 8.7 Gradil Metálico', '8.3 Tubulares en Forma Circular', '8.3 Tubulares en Profilado a Frio', '8.3 Tubulares en Profilado, 8.4 Tubulares en Laminado', '8.3 Tubulares en perfil RHS', '8.3 Tubulares en perfil circular', '8.3 Tubulares en perfil circular, 8.4 Tubulares en Perfil Rectangular', '8.3 Tubulares en perfil circular, 8.4 Tubulares en perfil rectangular', '8.3 Tubulares enformados a frio, 8.4 Tubulares enformados a quente', '8.4 Tubulares en Forma Circular', '8.4 Tubulares en madeira', '8.5 Chumbadouros, 8.6 Lajes Colaborantes, 8.7 Gradil Metálico', '8.6 Lajes Colaborantes, 8.7 Gradil Metálico', '9.3  lajes mistas Madeira-Betão com vigas de madeira, 9.6 Estrutura de Cobertura em madeira, com painéis OSB., 9.7  Escadas de Madeira', '9.5 Paredes de frontal', '9.6 Estrutura de Cobertura em madeira, com painéis OSB.', 'ESTRUTURA BETÃO ARMADO', 'Impermeabilização - Telas Bentoníticas Voltex, Impermeabilização - Emulsão Betuminosa', 'Impermeabilização - Telas em PVC, Impermeabilização - Emulsão Betuminosa', 'None', 'Recuperação de paredes existentes, Recuperação de pavimentos existentes'] will be ignored\n",
      "  warnings.warn(\n",
      "c:\\ProgramData\\Anaconda3\\lib\\site-packages\\sklearn\\preprocessing\\_label.py:875: UserWarning: unknown class(es) ['', 'Aparelhagens', 'Cais de madeira', 'Carotagem', 'DIVERSOS', 'Equipamentos Sanitários', 'Escadas', 'Escavação Geral', 'Execução de picagens e consolidação das paredes existentes a manter', 'Furação de Estacas Moldadas', 'Furação de Estacas Trado Continuo', 'Furação de MicroEstacas', 'Laje de Fundação (Ensoleiramento Geral)\\n\\n### Response:\\nElemento de fundação vertical para contenção periférica', 'Laje fungiforme aligeirada', 'Laje fungiforme maciça', 'Laje fungiformes', 'Lintel', 'Muro Tipo Berlim', 'Muro Tipo Munique', 'Muro de Suporte', 'Muros Tipo MS1', 'None', 'Paredes exteriores', 'Protecção de Estruturas Vizinhas', 'Quadros', 'Reforço das ligações entre paredes de tabique e de alvenaria de', 'Reforço das ligações entre paredes de tabique e de alvenaria de pedra/tijolo.', 'Reforço de Fundações', 'Reforço de paredes com injeção e selagem com calda', 'Subcapítulo e Item.', 'Subcapítulo ou Item.', 'Throwaway - Sem correspondência em Capítulo', 'calhas e luminárias', 'em reforços de paredes com lâminas de betão projectado', 'encasques e preenchimento de vazios nas paredes de alvenaria de tijolo existentes', 'encasques nas', 'incluindo todos os trabalhos necessários', 'mediante da aplicação de uma lâmina de argamassa', 'microbetão', 'por via húmida.'] will be ignored\n",
      "  warnings.warn(\n",
      "c:\\ProgramData\\Anaconda3\\lib\\site-packages\\sklearn\\preprocessing\\_label.py:875: UserWarning: unknown class(es) ['', '###  TRABALHOS PREPARATÓRIOS E MONTAGEM DE ESTALEIRO', '- Fornecimento e montagem de cofragens metálicas para execução de núcleos de betão armado, incluindo escoramentos, descofragens e limpeza dos elementos, conforme especificações técnicas do projeto.\\n\\n###  ESTRUTURA BETÃO ARMADO', '1.1 Estaleiro, 1.2 Equipamento Básico da Empreitada', '1.1 Estaleiro, 1.2 Equipamentos, 1.3 Serviços', '1.1 Estaleiro, 1.2 Plano de Segurança e Saúde', '1.1 Estaleiro, 1.2 Planos de Higiene e Segurança', '1.2 Tapume e Pala de Proteção, 1.3 Trabalhos Preparatórios e Montagem de Estaleiro', '1.3 Segurança Permanente em Obra, 1.4 Telas', '2.1 Contenção Periférica', '2.1 Demolições de Revestimentos, 2.3 Demolição do Edifício existente incluindo acumulação e transporte dos produtos para vazadouro autorizado', '2.1 Demolições de Revestimentos, 2.3 Demolição do Edifício existente incluindo remoção do pavimento', '2.1 Demolições de Revestimentos, 2.3 Demolição do Edifício existente incluindo remoção e transporte dos produtos para vazadouro autorizado', '2.2 Demolições de Elementos Estruturais, 2.3 Demolição do Edifício existente incluindo acumulação e transporte dos produtos para vazadouro autorizado', '2.3 Demolição do Edifício existente incluindo acumulação e transporte dos produtos para vazadouro autorizado, 2.1 Demolições de Elementos Estruturais', '2.3 Demolição do Edifício existente incluindo acumulação e transporte dos produtos para vazadouro autorizado, 2.1 Demolições de Revestimentos', '2.3 Demolição do Edifício existente incluindo acumulação e transporte dos produtos para vazadouro autorizado, 2.4 Demolições de Elementos', '2.3 Demolição do Edifício existente incluindo acumulação e transporte dos produtos para vazadouro autorizado, 2.4 Demolições de Elementos Aeronáuticos', '2.3 Demolição do Edifício existente incluindo acumulação e transporte dos produtos para vazadouro autorizado, 2.4 Demolições de Elementos Afectados', '2.3 Demolição do Edifício existente incluindo acumulação e transporte dos produtos para vazadouro autorizado, 2.4 Demolições de Elementos Affectados pelo projeto', '2.3 Demolição do Edifício existente incluindo acumulação e transporte dos produtos para vazadouro autorizado, 2.4 Demolições de Elementos Afixos', '2.3 Demolição do Edifício existente incluindo acumulação e transporte dos produtos para vazadouro autorizado, 2.4 Escavação de terras', '2.3 Demolição do Edifício existente incluindo acumulação e transporte dos produtos para vazadouro autorizado, 2.5 Remoção de equipamentos eléctricos', '2.3 Demolição do Edifício existente incluindo acumulação e transporte dos produtos para vazadouro autorizado, 2.8 Gestao de Resíduos', '2.3 Demolição do Edifício existente incluindo acumulação e transporte dos produtos para vazadouro autorizado, 2.8 Plano Gestao de Resíduos', '2.3 Demolição do Edifício existente incluindo acumulação e transporte dos produtos para vazadouro autorizado, 2.8 Telas', '2.4 Demolições de Elementos Acessórios', '2.4 Demolições de Elementos Afectados pelo Fogo', '2.4 Demolições de Elementos Através do Teto', '2.4 Demolições de Elementos Aéreos', '3.1 Escavação Geral, 3.2 Escavação de Caboucos', '3.1 Escavação Geral, 3.2 Remoção de solos, 3.3 Aterro', '3.1 Limpeza, Desmatação e Decapagem do terreno, 3.2 Remoção de árvores e arbustos', '3.3 Escavação Geral, 3.4 Escavação de Caboucos', '4.1 Contenção Periférica, 5.3 Fundações Indirectas', '4.1 Paredes de Terras', '5.2 Fundações Diretas, 5.3 Fundações Indirectas', '6.1 Pavimento Térreo com fibras, 6.2 Laje de Pavimento Térreo Armado', '7.1 Muros de Suporte, 7.2 Pilares, 7.3 Vigas, 7.4 Paredes, 7.5 Núcleos, 7.6 Escadas, 7.7 Platibandas, 7.8 Lajes', '7.1 Muros de Suporte, 7.2 Pilares, 7.3 Vigas, 7.4 Paredes, 7.6 Escadas, 7.8 Lajes', '7.1 Muros de Suporte, 7.3 Vigas, 7.4 Paredes, 7.6 Escadas, 7.8 Lajes', '7.1 Muros de Suporte, 7.3 Vigas, 7.4 Paredes, 7.8 Lajes', '7.1 Muros de Suporte, 7.3 Vigas, 7.8 Lajes', '7.1 Muros de Suporte, 7.4 Paredes', '7.2 Pilares, 7.3 Vigas', '7.2 Pilares, 7.3 Vigas, 7.4 Paredes', '7.2 Pilares, 7.3 Vigas, 7.4 Paredes, 7.6 Escadas, 7.8 Lajes', '7.2 Pilares, 7.3 Vigas, 7.8 Lajes', '7.2 Pilares, 7.4 Paredes', '7.2 Pilares, 7.6 Escadas, 7.8 Lajes', '7.2 Pilares, 7.8 Lajes', '7.3 Vigas, 7.4 Paredes', '7.3 Vigas, 7.4 Paredes, 7.8 Lajes', '7.3 Vigas, 7.7 Platibandas', '7.3 Vigas, 7.8 Lajes', '7.6 Escadas, 7.8 Lajes', '7.8 Lajes, 7.9 Pré-Esforço', '8.1 Enformados a Frio, 8.2 Laminados', '8.1 Enformados a Frio, 8.2 Laminados, 8.3 Tubulares en Colocación, 8.4 Tubulares en Profile, 8.5 Chumbadouros, 8.6 Lajes Colaborantes, 8.7 Gradil Metálico', '8.1 Enformados a Frio, 8.2 Laminados, 8.3 Tubulares en Colocación, 8.4 Tubulares en Profile, 8.5 Chumbadouros, 8.7 Gradil Metálico', '8.1 Enformados a Frio, 8.2 Laminados, 8.3 Tubulares en Colunas de Flame Retardance, 8.4 Tubulares en Colunas, 8.5 Chumbadouros, 8.6 Lajes Colaborantes, 8.7 Gradil Metálico', '8.1 Enformados a Frio, 8.2 Laminados, 8.3 Tubulares en Colunas, 8.4 Tubulares en Pavimentos, 8.5 Chumbadouros, 8.6 Lajes Colaborantes, 8.7 Gradil Metálico', '8.1 Enformados a Frio, 8.2 Laminados, 8.3 Tubulares en Colunas, 8.4 Tubulares en Pilar, 8.5 Chumbadouros, 8.6 Lajes Colaborantes, 8.7 Gradil Metálico', '8.1 Enformados a Frio, 8.2 Laminados, 8.3 Tubulares en Colunas, 8.4 Tubulares en Pilastras, 8.5 Chumbadouros, 8.6 Lajes Colaborantes, 8.7 Gradil Metálico', '8.1 Enformados a Frio, 8.2 Laminados, 8.3 Tubulares en Colunas, 8.4 Tubulares en Profile, 8.5 Chumbadouros, 8.6 Lajes Colaborantes, 8.7 Gradil Metálico', '8.1 Enformados a Frio, 8.2 Laminados, 8.3 Tubulares en Forma Circular, 8.4 Tubulares en Forma Retangular/Square, 8.5 Chumbadouros, 8.6 Lajes Colaborantes, 8.7 Gradil Metálico', '8.1 Enformados a Frio, 8.2 Laminados, 8.3 Tubulares en Forma Fechada, 8.4 Tubulares abertos, 8.5 Chumbadouros, 8.7 Gradil Metálico', '8.1 Enformados a Frio, 8.2 Laminados, 8.3 Tubulares en Forma Fechada, 8.4 Tubulares em Ponto Fixo, 8.5 Chumbadouros, 8.6 Lajes Colaborantes, 8.7 Gradil Metálico', '8.1 Enformados a Frio, 8.2 Laminados, 8.3 Tubulares en Forma Feita, 8.4 Tubulares de Perfis en Forma Feita, 8.5 Chumbadouros, 8.6 Lajes Colaborantes, 8.7 Gradil Metálico', '8.1 Enformados a Frio, 8.2 Laminados, 8.3 Tubulares en Forma Feita, 8.4 Tubulares de Perfis, 8.5 Chumbadouros, 8.6 Lajes Colaborantes, 8.7 Gradil Metálico', '8.1 Enformados a Frio, 8.2 Laminados, 8.3 Tubulares en Forma Feita, 8.4 Tubulares de Secção Circular, 8.5 Tubulares de Secção Retangular, 8.6 Lajes Colaborantes, 8.7 Gradil Metálico', '8.1 Enformados a Frio, 8.2 Laminados, 8.3 Tubulares en Forma Feita, 8.4 Tubulares en Ponto Fixo, 8.5 Chumbadouros, 8.6 Lajes Colaborantes, 8.7 Gradil Metálico', '8.1 Enformados a Frio, 8.2 Laminados, 8.3 Tubulares en Forma Feita, 8.4 Tubulares en Prolongamento de muro de elevador, 8.5 Chumbadouros, 8.6 Lajes Colaborantes, 8.7 Gradil Metálico', '8.1 Enformados a Frio, 8.2 Laminados, 8.3 Tubulares en Forma Feita, 8.4 Tubulares en Prolongamento, 8.5 Chumbadouros, 8.6 Lajes Colaborantes, 8.7 Gradil Metálico', '8.1 Enformados a Frio, 8.2 Laminados, 8.3 Tubulares en Forma Feita, 8.4 Tubulares en Pó, 8.5 Chumbadouros, 8.6 Lajes Colaborantes, 8.7 Gradil Metálico', '8.1 Enformados a Frio, 8.2 Laminados, 8.3 Tubulares en Forma Feita, 8.4 Tubulares en Pólo, 8.5 Chumbadouros, 8.6 Lajes Colaborantes, 8.7 Gradil Metálico', '8.1 Enformados a Frio, 8.2 Laminados, 8.3 Tubulares en Profilado, 8.4 Tubulares en Colono, 8.5 Chumbadouros, 8.6 Lajes Colaborantes, 8.7 Gradil Metálico', '8.1 Enformados a Frio, 8.2 Laminados, 8.3 Tubulares en Profilado, 8.4 Tubulares en Compósito', '8.1 Enformados a Frio, 8.2 Laminados, 8.3 Tubulares enformados a frio, 8.4 Tubulares enformados a quente', '8.1 Enformados a Frio, 8.2 Laminados, 8.3 Tubulares enformados a frio, 8.4 Tubulares enformados a quente, 8.5 Chumbadouros, 8.6 Lajes Colaborantes, 8.7 Gradil Metálico', '8.1 Enformados a Frio, 8.3 Tubulares en Forma Circular, 8.4 Tubulares en Forma Retangular', '8.1 Enformados a Frio, 8.3 Tubulares en Madeira', '8.1 Enformados a Frio, 8.3 Tubulares enformados a frio', '8.2 Laminados a quente, 8.3 Tubulares enformados a frio, 8.4 Tubulares enformados a quente', '8.2 Laminados, 8.3 Tubulares en aço S275JR, 8.4 Tubulares en aço S355J2H', '8.2 Laminados, 8.3 Tubulares en madeira, 8.4 Tubulares en aço, 8.5 Chumbadouros, 8.7 Gradil Metálico', '8.2 Laminados, 8.3 Tubulares enformados a frio, 8.4 Tubulares enformados a quente', '8.2 Laminados, 8.3 Tubulares enformados a frio, 8.4 Tubulares enformados a quente, 8.5 Chumbadouros, 8.7 Gradil Metálico', '8.2 Laminados, 8.3 Tubulares enformados a frio, 8.4 Tubulares enformados a quente, 8.7 Gradil Metálico', '8.2 Laminados, 8.4 Tubulares enformados a quente', '8.2 Laminados, 8.5 Chumbadouros, 8.7 Gradil Metálico', '8.3 Tubulares en Forma Circular', '8.3 Tubulares en Profilado a Frio', '8.3 Tubulares en Profilado, 8.4 Tubulares en Laminado', '8.3 Tubulares en perfil RHS', '8.3 Tubulares en perfil circular', '8.3 Tubulares en perfil circular, 8.4 Tubulares en Perfil Rectangular', '8.3 Tubulares en perfil circular, 8.4 Tubulares en perfil rectangular', '8.3 Tubulares enformados a frio, 8.4 Tubulares enformados a quente', '8.4 Tubulares en Forma Circular', '8.4 Tubulares en madeira', '8.5 Chumbadouros, 8.6 Lajes Colaborantes, 8.7 Gradil Metálico', '8.6 Lajes Colaborantes, 8.7 Gradil Metálico', '9.3  lajes mistas Madeira-Betão com vigas de madeira, 9.6 Estrutura de Cobertura em madeira, com painéis OSB., 9.7  Escadas de Madeira', '9.5 Paredes de frontal', '9.6 Estrutura de Cobertura em madeira, com painéis OSB.', 'Aparelhagens', 'CONTENÇÃO DE FACHADA', 'CONTENÇÕES, FUNDAÇÕES', 'Cais de madeira', 'Carotagem', 'Elemento de fundação horizontal (laje de fundação) para implantação da estrutura do edifício, incluindo todos os trabalhos necessários à sua boa execução.\\n\\n###  FUNDAÇÕES', 'Equipamentos Sanitários', 'Escadas', 'Escavação Geral', 'Execução de picagens e consolidação das paredes existentes a manter', 'Furação de Estacas Moldadas', 'Furação de Estacas Trado Continuo', 'Furação de MicroEstacas', 'Impermeabilização - Telas Bentoníticas Voltex, Impermeabilização - Emulsão Betuminosa', 'Impermeabilização - Telas em PVC, Impermeabilização - Emulsão Betuminosa', 'Laje de Fundação (Ensoleiramento Geral)\\n\\n### Response:\\nElemento de fundação vertical para contenção periférica', 'Laje fungiforme aligeirada', 'Laje fungiforme maciça', 'Laje fungiformes', 'Lintel', 'Muro Tipo Berlim', 'Muro Tipo Munique', 'Muro de Suporte', 'Muros Tipo MS1', 'None', 'Paredes exteriores', 'Protecção de Estruturas Vizinhas', 'Quadros', 'Recuperação de paredes existentes, Recuperação de pavimentos existentes', 'Reforço das ligações entre paredes de tabique e de alvenaria de', 'Reforço das ligações entre paredes de tabique e de alvenaria de pedra/tijolo.', 'Reforço de Fundações', 'Reforço de paredes com injeção e selagem com calda', 'Subcapítulo e Item.', 'Subcapítulo ou Item.', 'TRABALHOS PREPARATÓRIOS E COMPLEMENTARES', 'Throwaway - Sem correspondência em Capítulo', 'calhas e luminárias', 'em reforços de paredes com lâminas de betão projectado', 'encasques e preenchimento de vazios nas paredes de alvenaria de tijolo existentes', 'encasques nas', 'incluindo todos os trabalhos necessários', 'mediante da aplicação de uma lâmina de argamassa', 'microbetão', 'por via húmida.'] will be ignored\n",
      "  warnings.warn(\n"
     ]
    }
   ],
   "source": [
    "def multilabel_metrics(y_true_list, y_pred_list, level_name=\"\"):\n",
    "    mlb = MultiLabelBinarizer()\n",
    "    y_true_bin = mlb.fit_transform(y_true_list)\n",
    "    y_pred_bin = mlb.transform(y_pred_list)  # Only keeps known labels in test set\n",
    "\n",
    "    precision = precision_score(y_true_bin, y_pred_bin, average='micro', zero_division=0)\n",
    "    recall = recall_score(y_true_bin, y_pred_bin, average='micro', zero_division=0)\n",
    "    f1 = f1_score(y_true_bin, y_pred_bin, average='weighted', zero_division=0)\n",
    "    hamming = hamming_loss(y_true_bin, y_pred_bin)\n",
    "\n",
    "    return {\n",
    "        f\"{level_name}_precision_micro\": precision,\n",
    "        f\"{level_name}_recall_micro\": recall,\n",
    "        f\"{level_name}_f1_weighted\": f1,\n",
    "        f\"{level_name}_hamming_loss\": hamming\n",
    "    }\n",
    "\n",
    "# Apply for each level\n",
    "chapter_metrics = multilabel_metrics(test_df['true_chapter'], test_df['pred_chapter'], \"chapter\")\n",
    "subchapter_metrics = multilabel_metrics(test_df['true_subchapter'], test_df['pred_subchapter'], \"subchapter\")\n",
    "item_metrics = multilabel_metrics(test_df['true_item'], test_df['pred_item'], \"item\")\n",
    "\n",
    "# Combine all levels for overall evaluation\n",
    "overall_true = test_df['true_chapter'] + test_df['true_subchapter'] + test_df['true_item']\n",
    "overall_pred = test_df['pred_chapter'] + test_df['pred_subchapter'] + test_df['pred_item']\n",
    "overall_true_grouped = [ch + sub + it for ch, sub, it in zip(test_df['true_chapter'], test_df['true_subchapter'], test_df['true_item'])]\n",
    "overall_pred_grouped = [ch + sub + it for ch, sub, it in zip(test_df['pred_chapter'], test_df['pred_subchapter'], test_df['pred_item'])]\n",
    "\n",
    "overall_metrics = multilabel_metrics(overall_true_grouped, overall_pred_grouped, \"overall\")\n",
    "\n",
    "\n",
    "# Merge results\n",
    "all_metrics = {**chapter_metrics, **subchapter_metrics, **item_metrics, **overall_metrics}\n",
    "\n",
    "import pprint\n",
    "pprint.pprint(all_metrics)\n"
   ]
  },
  {
   "cell_type": "code",
   "execution_count": 19,
   "metadata": {},
   "outputs": [
    {
     "name": "stdout",
     "output_type": "stream",
     "text": [
      "{'chapter_f1_weighted': 0.886,\n",
      " 'chapter_hamming_loss': 0.019,\n",
      " 'chapter_precision_micro': 0.931,\n",
      " 'chapter_recall_micro': 0.851,\n",
      " 'item_f1_weighted': 0.645,\n",
      " 'item_hamming_loss': 0.012,\n",
      " 'item_precision_micro': 0.822,\n",
      " 'item_recall_micro': 0.599,\n",
      " 'overall_f1_weighted': 0.673,\n",
      " 'overall_hamming_loss': 0.014,\n",
      " 'overall_precision_micro': 0.867,\n",
      " 'overall_recall_micro': 0.611,\n",
      " 'subchapter_f1_weighted': 0.551,\n",
      " 'subchapter_hamming_loss': 0.017,\n",
      " 'subchapter_precision_micro': 0.852,\n",
      " 'subchapter_recall_micro': 0.453}\n"
     ]
    }
   ],
   "source": [
    "rounded_metrics = {k: round(v, 3) for k, v in all_metrics.items()}\n",
    "\n",
    "import pprint\n",
    "pprint.pprint(rounded_metrics)\n"
   ]
  },
  {
   "cell_type": "code",
   "execution_count": 40,
   "metadata": {},
   "outputs": [
    {
     "name": "stdout",
     "output_type": "stream",
     "text": [
      "                        true_chapter                       pred_chapter  \\\n",
      "0             ESTRUTURA BETÃO ARMADO             ESTRUTURA BETÃO ARMADO   \n",
      "1  DEMOLIÇÕES E CONTENÇÃO DE FACHADA  DEMOLIÇÕES E CONTENÇÃO DE FACHADA   \n",
      "2                          FUNDAÇÕES                          FUNDAÇÕES   \n",
      "3             ESTRUTURA BETÃO ARMADO                          FUNDAÇÕES   \n",
      "4                           DIVERSOS                           DIVERSOS   \n",
      "5             ESTRUTURA BETÃO ARMADO             ESTRUTURA BETÃO ARMADO   \n",
      "6             ESTRUTURA BETÃO ARMADO             ESTRUTURA BETÃO ARMADO   \n",
      "7                               None                          FUNDAÇÕES   \n",
      "8             ESTRUTURA BETÃO ARMADO             ESTRUTURA BETÃO ARMADO   \n",
      "9                         CONTENÇÕES             ESTRUTURA BETÃO ARMADO   \n",
      "\n",
      "                                     true_subchapter  \\\n",
      "0                                          7.8 Lajes   \n",
      "1  2.3 Demolição do Edifício existente incluindo ...   \n",
      "2                               5.1 Betão de Limpeza   \n",
      "3                                          7.8 Lajes   \n",
      "4      Impermeabilização - Telas Bentoníticas Voltex   \n",
      "5                                          7.8 Lajes   \n",
      "6                                        7.2 Pilares   \n",
      "7                                               None   \n",
      "8                                          7.3 Vigas   \n",
      "9                           4.1 Contenção Periférica   \n",
      "\n",
      "                                 pred_subchapter                   true_item  \\\n",
      "0                                      7.8 Lajes                Laje maciças   \n",
      "1                    2.4 Demolições de Elementos            Throwaway - Item   \n",
      "2                          5.2 Fundações Diretas            Throwaway - Item   \n",
      "3                          5.2 Fundações Diretas                Laje maciças   \n",
      "4  Impermeabilização - Telas Bentoníticas Voltex            Throwaway - Item   \n",
      "5                                      7.8 Lajes                Laje maciças   \n",
      "6                                    7.2 Pilares            Throwaway - Item   \n",
      "7                       5.3 Fundações Indirectas                        None   \n",
      "8                                      7.3 Vigas            Throwaway - Item   \n",
      "9                           7.1 Muros de Suporte  Cortina de Estacas Prancha   \n",
      "\n",
      "                                 pred_item  \n",
      "0                             Laje maciças  \n",
      "1                             Gradeamentos  \n",
      "2                        Vigas de Fundação  \n",
      "3  Laje de Fundação (Ensoleiramento Geral)  \n",
      "4                         Throwaway - Item  \n",
      "5                             Laje maciças  \n",
      "6                         Throwaway - Item  \n",
      "7                             MicroEstacas  \n",
      "8                         Throwaway - Item  \n",
      "9                         Throwaway - Item  \n"
     ]
    }
   ],
   "source": [
    "comparison_df = test_df[[\n",
    "    'true_chapter', 'pred_chapter',\n",
    "    'true_subchapter', 'pred_subchapter',\n",
    "    'true_item', 'pred_item'\n",
    "]]\n",
    "\n",
    "# Optional: display first few rows\n",
    "print(comparison_df.head(10))"
   ]
  }
 ],
 "metadata": {
  "kernelspec": {
   "display_name": "base",
   "language": "python",
   "name": "python3"
  },
  "language_info": {
   "codemirror_mode": {
    "name": "ipython",
    "version": 3
   },
   "file_extension": ".py",
   "mimetype": "text/x-python",
   "name": "python",
   "nbconvert_exporter": "python",
   "pygments_lexer": "ipython3",
   "version": "3.9.13"
  }
 },
 "nbformat": 4,
 "nbformat_minor": 2
}
